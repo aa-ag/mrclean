{
 "cells": [
  {
   "cell_type": "code",
   "execution_count": null,
   "id": "0b7e7719",
   "metadata": {},
   "outputs": [],
   "source": [
    "# 0\n",
    "# modules we'll use\n",
    "import pandas as pd\n",
    "import numpy as np\n",
    "\n",
    "# helpful character encoding module\n",
    "import chardet\n",
    "\n",
    "# set seed for reproducibility\n",
    "np.random.seed(0)\n",
    "print(\"imports complete\")"
   ]
  },
  {
   "cell_type": "code",
   "execution_count": null,
   "id": "4b8f5257",
   "metadata": {},
   "outputs": [],
   "source": [
    "# 1\n",
    "\n",
    "before = sample_entry.decode(\"big5-tw\")\n",
    "new_entry = before.encode()"
   ]
  },
  {
   "cell_type": "code",
   "execution_count": null,
   "id": "59fd4697",
   "metadata": {},
   "outputs": [],
   "source": [
    "# 2\n",
    "\n",
    "# look at the first ten thousand bytes to guess the character encoding\n",
    "with open(\"../input/fatal-police-shootings-in-the-us/PoliceKillingsUS.csv\", 'rb') as rawdata:\n",
    "    result = chardet.detect(rawdata.read(100000))\n",
    "\n",
    "# check what the character encoding might be\n",
    "print(result)\n",
    "\n",
    "# {'encoding': 'Windows-1252', 'confidence': 0.73, 'language': ''}\n",
    "\n",
    "### ANSWER\n",
    "police_killings = pd.read_csv(\"../input/fatal-police-shootings-in-the-us/PoliceKillingsUS.csv\", encoding='Windows-1252')"
   ]
  },
  {
   "cell_type": "code",
   "execution_count": null,
   "id": "300016e1",
   "metadata": {},
   "outputs": [],
   "source": [
    "# 3\n",
    "\n",
    "police_killings.to_csv(\"PoliceKillingsUS.csv\")"
   ]
  }
 ],
 "metadata": {
  "kernelspec": {
   "display_name": "Python 3",
   "language": "python",
   "name": "python3"
  },
  "language_info": {
   "codemirror_mode": {
    "name": "ipython",
    "version": 3
   },
   "file_extension": ".py",
   "mimetype": "text/x-python",
   "name": "python",
   "nbconvert_exporter": "python",
   "pygments_lexer": "ipython3",
   "version": "3.8.11"
  }
 },
 "nbformat": 4,
 "nbformat_minor": 5
}
