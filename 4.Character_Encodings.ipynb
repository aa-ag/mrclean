{
 "cells": [
  {
   "cell_type": "code",
   "execution_count": null,
   "id": "7dc25b39",
   "metadata": {},
   "outputs": [],
   "source": [
    "# 0\n",
    "# modules we'll use\n",
    "import pandas as pd\n",
    "import numpy as np\n",
    "\n",
    "# helpful character encoding module\n",
    "import chardet\n",
    "\n",
    "# set seed for reproducibility\n",
    "np.random.seed(0)\n",
    "print(\"imports complete\")"
   ]
  },
  {
   "cell_type": "code",
   "execution_count": null,
   "id": "13082a96",
   "metadata": {},
   "outputs": [],
   "source": [
    "# 1\n",
    "\n",
    "before = sample_entry.decode(\"big5-tw\")\n",
    "new_entry = before.encode()"
   ]
  },
  {
   "cell_type": "code",
   "execution_count": null,
   "id": "6a420897",
   "metadata": {},
   "outputs": [],
   "source": [
    "# 2\n",
    "\n",
    "# look at the first ten thousand bytes to guess the character encoding\n",
    "with open(\"../input/fatal-police-shootings-in-the-us/PoliceKillingsUS.csv\", 'rb') as rawdata:\n",
    "    result = chardet.detect(rawdata.read(10000))\n",
    "\n",
    "# check what the character encoding might be\n",
    "print(result)\n",
    "\n",
    "# {'encoding': 'ascii', 'confidence': 1.0, 'language': ''}"
   ]
  }
 ],
 "metadata": {
  "kernelspec": {
   "display_name": "Python 3",
   "language": "python",
   "name": "python3"
  },
  "language_info": {
   "codemirror_mode": {
    "name": "ipython",
    "version": 3
   },
   "file_extension": ".py",
   "mimetype": "text/x-python",
   "name": "python",
   "nbconvert_exporter": "python",
   "pygments_lexer": "ipython3",
   "version": "3.8.11"
  }
 },
 "nbformat": 4,
 "nbformat_minor": 5
}
