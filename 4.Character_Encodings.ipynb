{
 "cells": [
  {
   "cell_type": "code",
   "execution_count": null,
   "id": "a992ea77",
   "metadata": {},
   "outputs": [],
   "source": [
    "# 0\n",
    "# modules we'll use\n",
    "import pandas as pd\n",
    "import numpy as np\n",
    "\n",
    "# helpful character encoding module\n",
    "import chardet\n",
    "\n",
    "# set seed for reproducibility\n",
    "np.random.seed(0)\n",
    "print(\"imports complete\")"
   ]
  },
  {
   "cell_type": "code",
   "execution_count": null,
   "id": "9a755de4",
   "metadata": {},
   "outputs": [],
   "source": [
    "# 1\n",
    "\n",
    "before = sample_entry.decode(\"big5-tw\")\n",
    "new_entry = before.encode()"
   ]
  }
 ],
 "metadata": {
  "kernelspec": {
   "display_name": "Python 3",
   "language": "python",
   "name": "python3"
  },
  "language_info": {
   "codemirror_mode": {
    "name": "ipython",
    "version": 3
   },
   "file_extension": ".py",
   "mimetype": "text/x-python",
   "name": "python",
   "nbconvert_exporter": "python",
   "pygments_lexer": "ipython3",
   "version": "3.8.11"
  }
 },
 "nbformat": 4,
 "nbformat_minor": 5
}
