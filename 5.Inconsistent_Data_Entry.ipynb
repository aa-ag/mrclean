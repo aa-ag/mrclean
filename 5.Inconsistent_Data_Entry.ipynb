{
 "cells": [
  {
   "cell_type": "code",
   "execution_count": null,
   "id": "6f252058",
   "metadata": {},
   "outputs": [],
   "source": [
    "# 1\n",
    "graduated_from = professors['Graduated from'].unique()\n",
    "graduated_from"
   ]
  },
  {
   "cell_type": "code",
   "execution_count": null,
   "id": "d44b66a6",
   "metadata": {},
   "outputs": [],
   "source": [
    "# 2\n",
    "professors['Graduated from'] = professors['Graduated from'].str.strip()"
   ]
  }
 ],
 "metadata": {
  "kernelspec": {
   "display_name": "Python 3",
   "language": "python",
   "name": "python3"
  },
  "language_info": {
   "codemirror_mode": {
    "name": "ipython",
    "version": 3
   },
   "file_extension": ".py",
   "mimetype": "text/x-python",
   "name": "python",
   "nbconvert_exporter": "python",
   "pygments_lexer": "ipython3",
   "version": "3.8.11"
  }
 },
 "nbformat": 4,
 "nbformat_minor": 5
}
