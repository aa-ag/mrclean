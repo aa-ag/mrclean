{
 "cells": [
  {
   "cell_type": "code",
   "execution_count": null,
   "id": "fa86cdc4",
   "metadata": {},
   "outputs": [],
   "source": [
    "# 1\n",
    "'''\n",
    "Use the code cell below to print the first five rows of the sf_permits DataFrame.\n",
    "'''\n",
    "\n",
    "sf_permits.head()"
   ]
  },
  {
   "cell_type": "code",
   "execution_count": null,
   "id": "e92412c1",
   "metadata": {},
   "outputs": [],
   "source": [
    "# 2\n",
    "'''\n",
    "2) How many missing data points do we have?\n",
    "\n",
    "What percentage of the values in the dataset are missing? \n",
    "Your answer should be a number between 0 and 100. \n",
    "(If 1/4 of the values in the dataset are missing, the answer is 25.)\n",
    "'''\n",
    "# get the number of missing data points per column\n",
    "missing_values_count = sf_permits.isnull().sum()\n",
    "\n",
    "# how many total missing values do we have?\n",
    "total_cells = np.product(sf_permits.shape)\n",
    "total_missing = missing_values_count.sum()\n",
    "\n",
    "# percent of data that is missing\n",
    "percent_missing = (total_missing/total_cells) * 100\n",
    "print(percent_missing)"
   ]
  },
  {
   "cell_type": "code",
   "execution_count": null,
   "id": "c11fdbc3",
   "metadata": {},
   "outputs": [],
   "source": [
    "# 3 wasn't code\n",
    "# 4\n",
    "'''\n",
    "If you removed all of the rows of sf_permits with missing values, how many rows are left?\n",
    "'''\n",
    "sf_permits.dropna()"
   ]
  }
 ],
 "metadata": {
  "kernelspec": {
   "display_name": "Python 3 (ipykernel)",
   "language": "python",
   "name": "python3"
  },
  "language_info": {
   "codemirror_mode": {
    "name": "ipython",
    "version": 3
   },
   "file_extension": ".py",
   "mimetype": "text/x-python",
   "name": "python",
   "nbconvert_exporter": "python",
   "pygments_lexer": "ipython3",
   "version": "3.9.6"
  }
 },
 "nbformat": 4,
 "nbformat_minor": 5
}
