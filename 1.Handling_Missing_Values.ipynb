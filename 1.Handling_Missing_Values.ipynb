{
 "cells": [
  {
   "cell_type": "code",
   "execution_count": null,
   "id": "6f53d412",
   "metadata": {},
   "outputs": [],
   "source": [
    "# 1\n",
    "'''\n",
    "Use the code cell below to print the first five rows of the sf_permits DataFrame.\n",
    "'''\n",
    "\n",
    "sf_permits.head()"
   ]
  },
  {
   "cell_type": "code",
   "execution_count": null,
   "id": "056f4e55",
   "metadata": {},
   "outputs": [],
   "source": [
    "# 2\n",
    "'''\n",
    "2) How many missing data points do we have?\n",
    "\n",
    "What percentage of the values in the dataset are missing? \n",
    "Your answer should be a number between 0 and 100. \n",
    "(If 1/4 of the values in the dataset are missing, the answer is 25.)\n",
    "'''\n",
    "# get the number of missing data points per column\n",
    "missing_values_count = sf_permits.isnull().sum()\n",
    "\n",
    "# how many total missing values do we have?\n",
    "total_cells = np.product(sf_permits.shape)\n",
    "total_missing = missing_values_count.sum()\n",
    "\n",
    "# percent of data that is missing\n",
    "percent_missing = (total_missing/total_cells) * 100\n",
    "print(percent_missing)"
   ]
  },
  {
   "cell_type": "code",
   "execution_count": null,
   "id": "dcaf9d7f",
   "metadata": {},
   "outputs": [],
   "source": [
    "# 3 wasn't code\n",
    "# 4\n",
    "'''\n",
    "If you removed all of the rows of sf_permits with missing values, how many rows are left?\n",
    "'''\n",
    "sf_permits.dropna()"
   ]
  },
  {
   "cell_type": "code",
   "execution_count": null,
   "id": "d3a4c35c",
   "metadata": {},
   "outputs": [],
   "source": [
    "# 5\n",
    "'''\n",
    "Now try removing all the columns with empty values.\n",
    "\n",
    "Create a new DataFrame called sf_permits_with_na_dropped \n",
    "that has all of the columns with empty values removed.\n",
    "How many columns were removed from the original sf_permits DataFrame? \n",
    "Use this number to set the value of the dropped_columns variable below.\n",
    "'''\n",
    "sf_permits_with_na_dropped = sf_permits.dropna(axis=1)\n",
    "\n",
    "dropped_columns = sf_permits.shape[1] - sf_permits_with_na_dropped.shape[1] "
   ]
  }
 ],
 "metadata": {
  "kernelspec": {
   "display_name": "Python 3 (ipykernel)",
   "language": "python",
   "name": "python3"
  },
  "language_info": {
   "codemirror_mode": {
    "name": "ipython",
    "version": 3
   },
   "file_extension": ".py",
   "mimetype": "text/x-python",
   "name": "python",
   "nbconvert_exporter": "python",
   "pygments_lexer": "ipython3",
   "version": "3.9.6"
  }
 },
 "nbformat": 4,
 "nbformat_minor": 5
}
